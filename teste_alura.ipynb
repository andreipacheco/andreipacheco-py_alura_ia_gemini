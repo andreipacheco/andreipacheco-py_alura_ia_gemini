{
  "cells": [
    {
      "cell_type": "markdown",
      "metadata": {
        "colab_type": "text",
        "id": "view-in-github"
      },
      "source": [
        "<a href=\"https://colab.research.google.com/github/andreipacheco/andreipacheco-py_alura_ia_gemini/blob/main/teste_alura.ipynb\" target=\"_parent\"><img src=\"https://colab.research.google.com/assets/colab-badge.svg\" alt=\"Open In Colab\"/></a>"
      ]
    },
    {
      "cell_type": "markdown",
      "metadata": {
        "id": "OH2SzBWVjnEw"
      },
      "source": [
        "Instalando SDK do Google Generative AI"
      ]
    },
    {
      "cell_type": "code",
      "execution_count": null,
      "metadata": {
        "id": "sSnxzh8_jdFN"
      },
      "outputs": [],
      "source": [
        "!pip install -q -U google-generativeai"
      ]
    },
    {
      "cell_type": "code",
      "execution_count": 37,
      "metadata": {
        "id": "ihZGVUOKj0Fc"
      },
      "outputs": [],
      "source": [
        "# Import the Python SDK\n",
        "import google.generativeai as genai\n",
        "# Used to securely store your API key\n",
        "from google.colab import userdata\n",
        "\n",
        "from google.colab import userdata\n",
        "\n",
        "api_key = userdata.get('SECRET_KEY')\n",
        "genai.configure(api_key=api_key)\n"
      ]
    },
    {
      "cell_type": "markdown",
      "metadata": {
        "id": "HUEle_ELjkMl"
      },
      "source": [
        "Listar os modelos disponíveis"
      ]
    },
    {
      "cell_type": "code",
      "execution_count": null,
      "metadata": {
        "colab": {
          "base_uri": "https://localhost:8080/",
          "height": 138
        },
        "id": "HAZ4d-IwkMVZ",
        "outputId": "995788f0-79d1-49d8-bff0-db24f9fab2a6"
      },
      "outputs": [
        {
          "name": "stdout",
          "output_type": "stream",
          "text": [
            "models/gemini-1.0-pro\n",
            "models/gemini-1.0-pro-001\n",
            "models/gemini-1.0-pro-latest\n",
            "models/gemini-1.0-pro-vision-latest\n",
            "models/gemini-1.5-pro-latest\n",
            "models/gemini-pro\n",
            "models/gemini-pro-vision\n"
          ]
        }
      ],
      "source": [
        "for m in genai.list_models():\n",
        "  if 'generateContent' in m.supported_generation_methods:\n",
        "    print(m.name)"
      ]
    },
    {
      "cell_type": "code",
      "execution_count": null,
      "metadata": {
        "id": "82Cd1Zk-mYwS"
      },
      "outputs": [],
      "source": [
        "generation_config = {\n",
        "    \"candidate_count\": 1,\n",
        "    \"temperature\": 0.7,\n",
        "    \"top_k\": 40,\n",
        "    \"top_p\": 0.95,\n",
        "}"
      ]
    },
    {
      "cell_type": "code",
      "execution_count": null,
      "metadata": {
        "id": "q1P69xYsm-mw"
      },
      "outputs": [],
      "source": [
        "safety_settings = {\n",
        "    \"HARASSMENT\" : \"BLOCK_NONE\",\n",
        "    \"SEXUAL\" : \"BLOCK_NONE\",\n",
        "    \"HATE\": \"BLOCK_NONE\",\n",
        "    \"DANGEROUS\": \"BLOCK_NONE\",\n",
        "}"
      ]
    },
    {
      "cell_type": "markdown",
      "metadata": {
        "id": "3eahrprOn_B2"
      },
      "source": [
        "Inicializando o modelo"
      ]
    },
    {
      "cell_type": "code",
      "execution_count": null,
      "metadata": {
        "id": "nXa71ze_oBT9"
      },
      "outputs": [],
      "source": [
        "model = genai.GenerativeModel(model_name=\"gemini-1.0-pro\",\n",
        "                              generation_config=generation_config,\n",
        "                              safety_settings=safety_settings );"
      ]
    },
    {
      "cell_type": "code",
      "execution_count": null,
      "metadata": {
        "colab": {
          "base_uri": "https://localhost:8080/",
          "height": 696
        },
        "id": "j1-IQS6Xr4Ct",
        "outputId": "38d42f1b-1356-4a09-b314-45918df4e589"
      },
      "outputs": [
        {
          "name": "stdout",
          "output_type": "stream",
          "text": [
            "**Conceitos Básicos:**\n",
            "\n",
            "* Definição de Inteligência Artificial (IA)\n",
            "* Tipos de IA: Aprendizado de Máquina (ML), Aprendizado Profundo (DL), Processamento de Linguagem Natural (PNL)\n",
            "* Algoritmos e modelos usados em IA\n",
            "\n",
            "**Aprendizado de Máquina:**\n",
            "\n",
            "* Tipos de aprendizado de máquina: supervisionado, não supervisionado, reforço\n",
            "* Modelos populares de aprendizado de máquina: árvores de decisão, regressão logística, redes neurais\n",
            "* Avaliação de modelos de aprendizado de máquina: métricas, validação cruzada\n",
            "\n",
            "**Aprendizado Profundo:**\n",
            "\n",
            "* Introdução às redes neurais\n",
            "* Arquiteturas de rede neural: CNNs, RNNs, Transformers\n",
            "* Técnicas de treinamento de rede neural: retropropagação, otimização\n",
            "* Aplicações de redes neurais: visão computacional, processamento de linguagem natural\n",
            "\n",
            "**Processamento de Linguagem Natural:**\n",
            "\n",
            "* Representação de texto: vetores de palavras, incorporações\n",
            "* Processamento e análise de texto: tokenização, stemização, análise de sentimento\n",
            "* Geração de linguagem natural: modelos de linguagem, tradução automática\n",
            "\n",
            "**Aplicações de IA:**\n",
            "\n",
            "* IA na saúde: diagnóstico médico, descoberta de medicamentos\n",
            "* IA nas finanças: detecção de fraudes, gerenciamento de investimentos\n",
            "* IA na manufatura: otimização de processos, controle de qualidade\n",
            "* IA nos transportes: veículos autônomos, gerenciamento de tráfego\n",
            "* IA na educação: personalização do aprendizado, avaliação automatizada\n",
            "\n",
            "**Ética e Implicações Sociais da IA:**\n",
            "\n",
            "* Preocupações éticas sobre IA: viés, privacidade, desemprego\n",
            "* Implicações sociais da IA: automação, desigualdade, impacto na sociedade\n",
            "* Regulamentação e governança da IA\n"
          ]
        }
      ],
      "source": [
        "response = model.generate_content(\"Vamos aprender conteúdos sobre IA. Me dê sugestões.\")\n",
        "print(response.text)"
      ]
    },
    {
      "cell_type": "code",
      "execution_count": null,
      "metadata": {
        "id": "gt_En6fGtV2w"
      },
      "outputs": [],
      "source": [
        "chat = model.start_chat(history=[])"
      ]
    },
    {
      "cell_type": "code",
      "execution_count": null,
      "metadata": {
        "colab": {
          "base_uri": "https://localhost:8080/",
          "height": 191
        },
        "id": "aYNqxfCeuTTA",
        "outputId": "052dc8b5-1429-487b-f528-11ce71a02c42"
      },
      "outputs": [
        {
          "name": "stdout",
          "output_type": "stream",
          "text": [
            "Esperando prompt:Qual a capital do japão\n",
            "Resposta:  Tóquio \n",
            "\n",
            "Esperando prompt:Qual a comida tipica desse pais ?\n",
            "Resposta:  Sushi \n",
            "\n",
            "Esperando prompt:quem é a pessoa mais conhecida desse pais ?\n",
            "Resposta:  Hiroito \n",
            "\n",
            "Esperando prompt:fim\n"
          ]
        }
      ],
      "source": [
        "prompt = input(\"Esperando prompt:\")\n",
        "\n",
        "while prompt != \"fim\":\n",
        "  response = chat.send_message(prompt)\n",
        "  print(\"Resposta: \", response.text, \"\\n\")\n",
        "  prompt = input(\"Esperando prompt:\")\n"
      ]
    },
    {
      "cell_type": "code",
      "execution_count": null,
      "metadata": {
        "colab": {
          "base_uri": "https://localhost:8080/",
          "height": 895
        },
        "id": "vyvBk-uq04CX",
        "outputId": "f421c037-ed50-4b6e-c3d4-5b11c9d32ee9"
      },
      "outputs": [
        {
          "data": {
            "text/markdown": [
              "> **(user)**: (1)"
            ],
            "text/plain": [
              "<IPython.core.display.Markdown object>"
            ]
          },
          "metadata": {},
          "output_type": "display_data"
        },
        {
          "name": "stdout",
          "output_type": "stream",
          "text": [
            "---------------------------------------------------------------\n"
          ]
        },
        {
          "data": {
            "text/markdown": [
              "> **(model)**: (0)"
            ],
            "text/plain": [
              "<IPython.core.display.Markdown object>"
            ]
          },
          "metadata": {},
          "output_type": "display_data"
        },
        {
          "name": "stdout",
          "output_type": "stream",
          "text": [
            "---------------------------------------------------------------\n"
          ]
        },
        {
          "data": {
            "text/markdown": [
              "> **(user)**: (2)"
            ],
            "text/plain": [
              "<IPython.core.display.Markdown object>"
            ]
          },
          "metadata": {},
          "output_type": "display_data"
        },
        {
          "name": "stdout",
          "output_type": "stream",
          "text": [
            "---------------------------------------------------------------\n"
          ]
        },
        {
          "data": {
            "text/markdown": [
              "> **(model)**: (1)"
            ],
            "text/plain": [
              "<IPython.core.display.Markdown object>"
            ]
          },
          "metadata": {},
          "output_type": "display_data"
        },
        {
          "name": "stdout",
          "output_type": "stream",
          "text": [
            "---------------------------------------------------------------\n"
          ]
        },
        {
          "data": {
            "text/markdown": [
              "> **(user)**: (qwe)"
            ],
            "text/plain": [
              "<IPython.core.display.Markdown object>"
            ]
          },
          "metadata": {},
          "output_type": "display_data"
        },
        {
          "name": "stdout",
          "output_type": "stream",
          "text": [
            "---------------------------------------------------------------\n"
          ]
        },
        {
          "data": {
            "text/markdown": [
              "> **(model)**: (asd)"
            ],
            "text/plain": [
              "<IPython.core.display.Markdown object>"
            ]
          },
          "metadata": {},
          "output_type": "display_data"
        },
        {
          "name": "stdout",
          "output_type": "stream",
          "text": [
            "---------------------------------------------------------------\n"
          ]
        },
        {
          "data": {
            "text/markdown": [
              "> **(user)**: (asd)"
            ],
            "text/plain": [
              "<IPython.core.display.Markdown object>"
            ]
          },
          "metadata": {},
          "output_type": "display_data"
        },
        {
          "name": "stdout",
          "output_type": "stream",
          "text": [
            "---------------------------------------------------------------\n"
          ]
        },
        {
          "data": {
            "text/markdown": [
              "> **(model)**: (qwe)"
            ],
            "text/plain": [
              "<IPython.core.display.Markdown object>"
            ]
          },
          "metadata": {},
          "output_type": "display_data"
        },
        {
          "name": "stdout",
          "output_type": "stream",
          "text": [
            "---------------------------------------------------------------\n"
          ]
        },
        {
          "data": {
            "text/markdown": [
              "> **(user)**: (Qual a capital do japão)"
            ],
            "text/plain": [
              "<IPython.core.display.Markdown object>"
            ]
          },
          "metadata": {},
          "output_type": "display_data"
        },
        {
          "name": "stdout",
          "output_type": "stream",
          "text": [
            "---------------------------------------------------------------\n"
          ]
        },
        {
          "data": {
            "text/markdown": [
              "> **(model)**: (Tóquio)"
            ],
            "text/plain": [
              "<IPython.core.display.Markdown object>"
            ]
          },
          "metadata": {},
          "output_type": "display_data"
        },
        {
          "name": "stdout",
          "output_type": "stream",
          "text": [
            "---------------------------------------------------------------\n"
          ]
        },
        {
          "data": {
            "text/markdown": [
              "> **(user)**: (Qual a comida tipica desse pais ?)"
            ],
            "text/plain": [
              "<IPython.core.display.Markdown object>"
            ]
          },
          "metadata": {},
          "output_type": "display_data"
        },
        {
          "name": "stdout",
          "output_type": "stream",
          "text": [
            "---------------------------------------------------------------\n"
          ]
        },
        {
          "data": {
            "text/markdown": [
              "> **(model)**: (Sushi)"
            ],
            "text/plain": [
              "<IPython.core.display.Markdown object>"
            ]
          },
          "metadata": {},
          "output_type": "display_data"
        },
        {
          "name": "stdout",
          "output_type": "stream",
          "text": [
            "---------------------------------------------------------------\n"
          ]
        },
        {
          "data": {
            "text/markdown": [
              "> **(user)**: (quem é a pessoa mais conhecida desse pais ?)"
            ],
            "text/plain": [
              "<IPython.core.display.Markdown object>"
            ]
          },
          "metadata": {},
          "output_type": "display_data"
        },
        {
          "name": "stdout",
          "output_type": "stream",
          "text": [
            "---------------------------------------------------------------\n"
          ]
        },
        {
          "data": {
            "text/markdown": [
              "> **(model)**: (Hiroito)"
            ],
            "text/plain": [
              "<IPython.core.display.Markdown object>"
            ]
          },
          "metadata": {},
          "output_type": "display_data"
        },
        {
          "name": "stdout",
          "output_type": "stream",
          "text": [
            "---------------------------------------------------------------\n"
          ]
        }
      ],
      "source": [
        "# Melhorando a visualização\n",
        "# Código disponível em https://ai.google.dev/tutorials/python_quickstart#import_packages\n",
        "\n",
        "import textwrap\n",
        "from IPython.display import display\n",
        "\n",
        "from IPython.display import Markdown\n",
        "\n",
        "def to_markdown(text):\n",
        "  \"\"\"\n",
        "  Função para converter texto em formato Markdown.\n",
        "\n",
        "  Args:\n",
        "    text: Texto a ser convertido em Markdown.\n",
        "\n",
        "  Returns:\n",
        "    Texto formatado em Markdown.\n",
        "  \"\"\"\n",
        "  text = text.replace('.', '.\\n')\n",
        "  text = textwrap.indent(text, '> ')\n",
        "  return Markdown(text)\n",
        "\n",
        "# Imprimindo o histórico\n",
        "for message in chat.history:\n",
        "  \"\"\"\n",
        "  Laço para iterar sobre o histórico de bate-papo e imprimir cada mensagem formatada em Markdown.\n",
        "\n",
        "  Args:\n",
        "    chat: Objeto de bate-papo que contém o histórico de mensagens.\n",
        "  \"\"\"\n",
        "  display(to_markdown(f\"**({message.role})**: ({message.parts[0].text})\"))\n",
        "  print('---------------------------------------------------------------')"
      ]
    }
  ],
  "metadata": {
    "colab": {
      "authorship_tag": "ABX9TyNHQus9heztHwN8fHi6lSLa",
      "include_colab_link": true,
      "provenance": []
    },
    "kernelspec": {
      "display_name": "Python 3",
      "name": "python3"
    },
    "language_info": {
      "name": "python"
    }
  },
  "nbformat": 4,
  "nbformat_minor": 0
}
